{
 "cells": [
  {
   "cell_type": "code",
   "execution_count": 2,
   "id": "8275e93d-a46d-4f79-9a14-f91cbf02c5d2",
   "metadata": {},
   "outputs": [],
   "source": [
    "import matplotlib.pyplot as plt\n",
    "import numpy as np\n",
    "from numpy import exp\n",
    "from scipy.integrate import odeint"
   ]
  },
  {
   "cell_type": "code",
   "execution_count": 4,
   "id": "61252ba5-4737-45f9-8f4a-b8ba8c1e08d3",
   "metadata": {},
   "outputs": [],
   "source": [
    "def F(x, t, R0):\n",
    "    s, e, i = x\n",
    "\t\t\n",
    "    beta = R0(t) * gamma if callable(R0) else R0 * gamma\n",
    "    ne = beta * s * i\n",
    "\t\t\n",
    "    ds = - ne\n",
    "    de = ne - sigma * e\n",
    "    di = sigma * e - gamma * i\n",
    "\t\t\n",
    "    return ds, de, di"
   ]
  },
  {
   "cell_type": "code",
   "execution_count": 14,
   "id": "b1155a6a-fd30-4fa3-a7a8-a997213e1895",
   "metadata": {},
   "outputs": [],
   "source": [
    "\"\"\"\n",
    "초기값 설정\n",
    "\"\"\"\n",
    "\t\n",
    "i_0 = 1e-7\n",
    "e_0 = 4 * i_0\n",
    "s_0 = 1 - i_0 - e_0\n",
    "\t\n",
    "x_0 = s_0, e_0, i_0 \n",
    "\t\n",
    "gamma = 1 / 18 # 지속기 18일\n",
    "sigma = 1 / 5.2 # 잠복기 5.2일"
   ]
  },
  {
   "cell_type": "code",
   "execution_count": 16,
   "id": "4e01a40a-6f53-4b24-94f1-37025f3b7b53",
   "metadata": {},
   "outputs": [
    {
     "data": {
      "text/plain": [
       "[0.9999995, 4e-07, 1e-07]"
      ]
     },
     "execution_count": 16,
     "metadata": {},
     "output_type": "execute_result"
    }
   ],
   "source": [
    "list (x_0)\n",
    "\n"
   ]
  },
  {
   "cell_type": "code",
   "execution_count": 18,
   "id": "1edbc556-9050-4e2f-a77e-b610185fae8c",
   "metadata": {},
   "outputs": [],
   "source": [
    "def solve_path(R0, t_vec, x_init=x_0):\n",
    "    G = lambda x, t: F(x, t, R0)\n",
    "    s_path, e_path, i_path = odeint(G, x_init, t_vec).transpose()\n",
    "\t\t\n",
    "    c_path = 1 - s_path - e_path\n",
    "\t\t\n",
    "    return i_path, c_path"
   ]
  },
  {
   "cell_type": "code",
   "execution_count": 20,
   "id": "c873461e-d506-4877-afd5-05c3317772d5",
   "metadata": {},
   "outputs": [],
   "source": [
    "t_length = 550\n",
    "grid_size = 1000\n",
    "t_vec = np.linspace(0, t_length, grid_size)"
   ]
  },
  {
   "cell_type": "code",
   "execution_count": null,
   "id": "88c7d023-af75-4673-993b-42a061327687",
   "metadata": {},
   "outputs": [],
   "source": []
  }
 ],
 "metadata": {
  "kernelspec": {
   "display_name": "Python 3 (ipykernel)",
   "language": "python",
   "name": "python3"
  },
  "language_info": {
   "codemirror_mode": {
    "name": "ipython",
    "version": 3
   },
   "file_extension": ".py",
   "mimetype": "text/x-python",
   "name": "python",
   "nbconvert_exporter": "python",
   "pygments_lexer": "ipython3",
   "version": "3.12.4"
  }
 },
 "nbformat": 4,
 "nbformat_minor": 5
}
