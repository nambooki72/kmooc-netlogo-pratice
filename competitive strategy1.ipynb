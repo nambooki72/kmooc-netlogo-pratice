{
 "cells": [
  {
   "cell_type": "code",
   "execution_count": 4,
   "id": "52718d80-1426-4d9e-9e50-a9a5508a4441",
   "metadata": {},
   "outputs": [],
   "source": [
    "import matplotlib.pyplot as plt\n",
    "import numpy as np\n",
    "\t\n",
    "from os.path import basename, exists\n",
    "\n",
    "def download(url):\n",
    "    filename = basename(url)\n",
    "    if not exists(filename):\n",
    "        from urllib.request import urlretrieve\n",
    "        local, _ = urlretrieve(url, filename)\n",
    "        print('Downloaded ' + local)\n",
    "    \n",
    "download('https://github.com/AllenDowney/ThinkComplexity2/raw/master/notebooks/utils.py')\n",
    "\t\n",
    "from utils import decorate, savefig\n",
    "!mkdir -p figs"
   ]
  },
  {
   "cell_type": "code",
   "execution_count": 5,
   "id": "8fef1ba5-5482-49c8-bcc7-6631acdf68f3",
   "metadata": {},
   "outputs": [],
   "source": [
    "class Simulation:\n",
    "    def __init__(self, fit_land, agents):\n",
    "        self.fit_land = fit_land\n",
    "        self.agents = np.asarray(agents)\n",
    "        self.instruments = []"
   ]
  },
  {
   "cell_type": "code",
   "execution_count": 6,
   "id": "0ce0c3b8-d416-458c-b185-3428fe7bc42c",
   "metadata": {},
   "outputs": [],
   "source": [
    "    def add_instrument(self, instrument):\n",
    "        self.instruments.append(instrument)\n",
    "    \t\t\t\n",
    "    def plot(self, index, *args, **kwargs):\n",
    "        self.instruments[index].plot(*args, **kwargs)"
   ]
  },
  {
   "cell_type": "code",
   "execution_count": 7,
   "id": "27c175d0-d523-4fdf-9b36-b649aeb0e381",
   "metadata": {},
   "outputs": [],
   "source": [
    "    def run(self, num_steps=500):\n",
    "        self.update_instruments()\n",
    "\t\t\t\n",
    "        for _ in range(num_steps):\n",
    "            self.step()\n",
    "                                \n",
    "    def step(self):\n",
    "        n = len(self.agents)\n",
    "        fits = self.get_fitnesses()\n",
    "\t\t\t\n",
    "        index_dead = self.choose_dead(fits)\n",
    "        num_dead = len(index_dead)\n",
    "\t\t\t\n",
    "        replacements = self.choose_replacements(num_dead, fits)\n",
    "        self.agents[index_dead] = replacements\n",
    "\t\t\t\n",
    "        self.update_instruments()"
   ]
  },
  {
   "cell_type": "code",
   "execution_count": 8,
   "id": "c9e6d371-1d2b-4e28-8ab1-df51e0777a56",
   "metadata": {},
   "outputs": [],
   "source": [
    "    def update_instruments(self):\n",
    "        for instrument in self.instruments:\n",
    "            instrument.update(self)\n",
    "    \t\t\n",
    "    def get_locs(self):\n",
    "        return [tuple(agent.loc) for agent in self.agents]\n",
    "\t\t\t\n",
    "    def get_fitnesses(self):\n",
    "        fits = [agent.fitness for agent in self.agents]\n",
    "        return np.array(fits)\n",
    "    \t\t\t\n",
    "    def choose_dead(self, ps):\n",
    "        n = len(self.agents)\n",
    "        is_dead = np.random.random(n) < 0.1\n",
    "        index_dead = np.nonzero(is_dead)[0]\n",
    "        return index_dead\n",
    "\t\t\t\n",
    "    def choose_replacements(self, n, weights):\n",
    "        agents = np.random.choice(self.agents, size=n, replace=True)\n",
    "        replacements = [agent.copy() for agent in agents]\n",
    "        return replacements"
   ]
  },
  {
   "cell_type": "code",
   "execution_count": 9,
   "id": "3a29698a-a0c3-44e8-9bb2-73ec9418f353",
   "metadata": {},
   "outputs": [],
   "source": [
    "class Instrument:\n",
    "    def __init__(self):\n",
    "        self.metrics = []\n",
    "\t\t\n",
    "    def update(self, sim):\n",
    "        pass\n",
    "                    \n",
    "    def plot(self, **options):\n",
    "        plt.plot(self.metrics, **options)"
   ]
  },
  {
   "cell_type": "code",
   "execution_count": 10,
   "id": "4a56aa2c-254c-4c24-b930-150b525f499b",
   "metadata": {},
   "outputs": [],
   "source": [
    "def sum(a, b, c, d):\n",
    "    return a + b + c + d\n",
    "\t\t\t\t\n",
    "    values1 = (1, 2)\n",
    "    values2 = { 'c': 10, 'd': 15 }\n",
    "\t\t\t\t\n",
    "    s = sum(*values1, *values1)\n",
    "    s = sum(*values1, **values2) "
   ]
  },
  {
   "cell_type": "code",
   "execution_count": 11,
   "id": "d71450c9-3f18-409f-a1c1-0ff63c9ea114",
   "metadata": {},
   "outputs": [],
   "source": [
    "class MeanFitness(Instrument):\n",
    "    label = 'Mean fitness'\n",
    "\n",
    "    def update(self, sim):\n",
    "        mean = np.nanmean(sim.get_fitnesses())\n",
    "        self.metrics.append(mean)"
   ]
  },
  {
   "cell_type": "code",
   "execution_count": 12,
   "id": "94911655-44a5-497c-8103-a927ca2e68e9",
   "metadata": {},
   "outputs": [],
   "source": [
    "class Agent:\n",
    "    keys = [(None, None),\n",
    "            (None, 'C'),\n",
    "            (None, 'D'),\n",
    "            ('C', 'C'),\n",
    "            ('C', 'D'),\n",
    "            ('D', 'C'),\n",
    "            ('D', 'D')]\n",
    "\n",
    "    def __init__(self, values, fitness=np.nan):\n",
    "        self.values = values\n",
    "        self.responses = dict(zip(self.keys, values))\n",
    "        self.fitness = fitness\n",
    "                    \n",
    "    def reset(self):\n",
    "        self.hist = [None, None]\n",
    "        self.score = 0\n",
    "                    \n",
    "    def past_responses(self, num=2):\n",
    "        return tuple(self.hist[-num:])\n",
    "                \n",
    "    def respond(self, other):\n",
    "        key = other.past_responses()\n",
    "        resp = self.responses[key]\n",
    "        return resp\n",
    "                    \n",
    "    def append(self, resp, pay):\n",
    "        self.hist.append(resp)\n",
    "        self.score += pay\n",
    "                    \n",
    "    def copy(self, prob_mutate=0.05):\n",
    "        if np.random.random() > prob_mutate:\n",
    "            values = self.values\n",
    "        else:\n",
    "            values = self.mutate()\n",
    "        return Agent(values, self.fitness)\n",
    "                \n",
    "    def mutate(self):\n",
    "        values = list(self.values)\n",
    "        index = np.random.choice(len(values))\n",
    "        values[index] = 'C' if values[index] == 'D' else 'D'\n",
    "        return values"
   ]
  },
  {
   "cell_type": "code",
   "execution_count": 13,
   "id": "ecc3037a-4a51-44a1-867e-ecdacb1a3f1d",
   "metadata": {},
   "outputs": [
    {
     "data": {
      "text/plain": [
       "{(None, None): 'C',\n",
       " (None, 'C'): 'C',\n",
       " (None, 'D'): 'D',\n",
       " ('C', 'C'): 'C',\n",
       " ('C', 'D'): 'D',\n",
       " ('D', 'C'): 'C',\n",
       " ('D', 'D'): 'D'}"
      ]
     },
     "execution_count": 13,
     "metadata": {},
     "output_type": "execute_result"
    }
   ],
   "source": [
    "all_c = Agent('CCCCCCC')\n",
    "all_c.responses\n",
    "\t\n",
    "all_d = Agent('DDDDDDD')\n",
    "all_d.responses\n",
    "\t\n",
    "tft = Agent('CCDCDCD')\n",
    "tft.responses"
   ]
  },
  {
   "cell_type": "code",
   "execution_count": 14,
   "id": "b9bff71d-56dd-4855-b8e2-9561c1c5a984",
   "metadata": {},
   "outputs": [
    {
     "name": "stdout",
     "output_type": "stream",
     "text": [
      "DDDDDDD\n",
      "DDDDDDD\n",
      "DDDDDDD\n",
      "DDDDDDD\n",
      "DDDDDDD\n",
      "DDDDDDD\n",
      "DDDDDDD\n",
      "DDDDDDD\n",
      "['D', 'C', 'D', 'D', 'D', 'D', 'D']\n",
      "['D', 'D', 'C', 'D', 'D', 'D', 'D']\n"
     ]
    }
   ],
   "source": [
    "np.random.seed(17)\n",
    "for i in range(10):\n",
    "    print(all_d.copy().values)"
   ]
  },
  {
   "cell_type": "code",
   "execution_count": 15,
   "id": "454d9cf5-0414-4230-b1db-f93228f91716",
   "metadata": {},
   "outputs": [
    {
     "data": {
      "text/plain": [
       "57"
      ]
     },
     "execution_count": 15,
     "metadata": {},
     "output_type": "execute_result"
    }
   ],
   "source": [
    "np.sum([all_d.copy().values != all_d.values for i in range(1000)])    \n",
    "\n"
   ]
  },
  {
   "cell_type": "code",
   "execution_count": 16,
   "id": "7df9eac7-03a0-4f54-bc50-84a38e6080db",
   "metadata": {},
   "outputs": [],
   "source": [
    "class Tournament:\n",
    "\t\n",
    "    payoffs = {('C', 'C'): (3, 3),\n",
    "               ('C', 'D'): (0, 5),\n",
    "               ('D', 'C'): (5, 0),\n",
    "               ('D', 'D'): (1, 1)}\n",
    "    num_rounds = 6\n",
    "\t\t\n",
    "    def play(self, agent1, agent2):\n",
    "        agent1.reset()\n",
    "        agent2.reset()\n",
    "\t\t\t\n",
    "        for i in range(self.num_rounds):\n",
    "            resp1 = agent1.respond(agent2)\n",
    "            resp2 = agent2.respond(agent1)\n",
    "\t\t\t\t\n",
    "            pay1, pay2 = self.payoffs[resp1, resp2]\n",
    "\t\t\t\t\n",
    "            agent1.append(resp1, pay1)\n",
    "            agent2.append(resp2, pay2)\n",
    "                    \n",
    "        return agent1.score, agent2.score\n",
    "                        \n",
    "    def melee(self, agents, randomize=True):\n",
    "        if randomize:\n",
    "            agents = np.random.permutation(agents)\n",
    "                    \n",
    "        n = len(agents)\n",
    "        i_row = np.arange(n)\n",
    "        j_row = (i_row + 1) % n\n",
    "                \n",
    "        totals = np.zeros(n)\n",
    "\t\t\t\n",
    "        for i, j in zip(i_row, j_row):\n",
    "            agent1, agent2 = agents[i], agents[j]\n",
    "            score1, score2 = self.play(agent1, agent2)\n",
    "            totals[i] += score1\n",
    "            totals[j] += score2\n",
    "                    \n",
    "        for i in i_row:\n",
    "            agents[i].fitness = totals[i] / self.num_rounds / 2\n"
   ]
  },
  {
   "cell_type": "code",
   "execution_count": 17,
   "id": "873060fe-319f-465e-b325-9dea8d8fe649",
   "metadata": {},
   "outputs": [],
   "source": [
    "tour = Tournament()\n",
    "tour.play(all_d, all_c)\n",
    "\t\n",
    "tour.play(all_d, tft)\n",
    "\t\n",
    "tour.play(tft, all_c)\n",
    "\t\n",
    "agents = [all_c, all_d, tft]\n",
    "agents\n",
    "\t\n",
    "tour.melee(agents)\n"
   ]
  },
  {
   "cell_type": "code",
   "execution_count": 18,
   "id": "4c895cdb-c4f4-44ed-9809-9f9e874528a0",
   "metadata": {},
   "outputs": [
    {
     "name": "stdout",
     "output_type": "stream",
     "text": [
      "CCCCCCC 1.5\n",
      "DDDDDDD 3.3333333333333335\n",
      "CCDCDCD 1.9166666666666667\n"
     ]
    }
   ],
   "source": [
    "for agent in agents:\n",
    "    print(agent.values, agent.fitness)\n"
   ]
  },
  {
   "cell_type": "code",
   "execution_count": 19,
   "id": "9990e26b-8cec-478a-a453-3673defca0ae",
   "metadata": {},
   "outputs": [
    {
     "data": {
      "image/png": "[encoded data removed]",
      "text/plain": [
       "<Figure size 640x480 with 1 Axes>"
      ]
     },
     "metadata": {},
     "output_type": "display_data"
    }
   ],
   "source": [
    "def logistic(x, A=0, B=1, C=1, M=0, K=1, Q=1, nu=1):\n",
    "    exponent = -B * (x - M)\n",
    "    denom = C + Q * np.exp(exponent)\n",
    "    return A + (K-A) / denom ** (1/nu)\n",
    "\t\n",
    "def prob_survive(scores):\n",
    "    return logistic(scores, A=0.7, B=1.5, M=2.5, K=0.9)\n",
    "\t\n",
    "scores = np.linspace(0, 5)\n",
    "probs = prob_survive(scores)\n",
    "plt.plot(scores, probs)\n",
    "decorate(xlabel='Score', ylabel='Probability of survival')\n"
   ]
  },
  {
   "cell_type": "code",
   "execution_count": 20,
   "id": "7e34e99c-24c7-4d58-9fd6-f921ad8d171e",
   "metadata": {},
   "outputs": [],
   "source": [
    "class PDSimulation(Simulation):\n",
    "    def __init__(self, tournament, agents):\n",
    "        self.tournament = tournament\n",
    "        self.agents = np.asarray(agents)\n",
    "        self.instruments = []\n",
    "\t\t\t\n",
    "    def step(self):\n",
    "        self.tournament.melee(self.agents)\n",
    "        Simulation.step(self)\n",
    "\t\t\t\n",
    "    def choose_dead(self, fits):\n",
    "        ps = prob_survive(fits)\n",
    "        n = len(self.agents)\n",
    "        is_dead = np.random.random(n) < ps\n",
    "        index_dead = np.nonzero(is_dead)[0]\n",
    "        return index_dead\n"
   ]
  },
  {
   "cell_type": "code",
   "execution_count": 21,
   "id": "fc11c4a2-a60b-4a74-b789-5d2a950c3ac9",
   "metadata": {},
   "outputs": [],
   "source": [
    "def make_random_agents(n):\n",
    "    agents = [Agent(np.random.choice(['C', 'D'], size=7))\n",
    "              for _ in range(n)]\n",
    "    return agents\n",
    "\t\t\n",
    "def make_identical_agents(n, values):\n",
    "    agents = [Agent(values) for _ in range(n)]\n",
    "    return agents\n"
   ]
  },
  {
   "cell_type": "code",
   "execution_count": 22,
   "id": "20f34556-4016-45b1-85b3-bc530c00293a",
   "metadata": {},
   "outputs": [],
   "source": [
    "class Niceness(Instrument):\n",
    "    label = 'Niceness'\n",
    "\t\t\n",
    "    def update(self, sim):\n",
    "        responses = np.array([agent.values for agent in sim.agents])\n",
    "        metric = np.mean(responses == 'C')\n",
    "        self.metrics.append(metric)\n",
    "\n",
    "class Opening(Instrument):\n",
    "    label = 'Opening'\n",
    "\t\t\n",
    "    def update(self, sim):\n",
    "        responses = np.array([agent.values[0] for agent in sim.agents])\n",
    "        metric = np.mean(responses == 'C')\n",
    "        self.metrics.append(metric)\n",
    "                \n",
    "class Retaliating(Instrument):\n",
    "    label = 'Retaliating'\n",
    "\t\t\n",
    "    def update(self, sim):\n",
    "        after_d = np.array([agent.values[2::2] for agent in sim.agents])\n",
    "        after_c = np.array([agent.values[1::2] for agent in sim.agents])\n",
    "        metric = np.mean(after_d == 'D') - np.mean(after_c == 'D')\n",
    "        self.metrics.append(metric)\n",
    "\t\n",
    "class Forgiving(Instrument):\n",
    "    label = 'Forgiving'\n",
    "\t\t\n",
    "    def update(self, sim):\n",
    "        after_dc = np.array([agent.values[5] for agent in sim.agents])\n",
    "        after_cd = np.array([agent.values[4] for agent in sim.agents])\n",
    "        metric = np.mean(after_dc == 'C') - np.mean(after_cd == 'C')\n",
    "        self.metrics.append(metric)\n",
    "\t\n",
    "class Forgiving2(Instrument):\n",
    "    label = 'Forgiving2'        \n",
    "\t\t\n",
    "    def update(self, sim):\n",
    "        after_two = np.array([agent.values[3:] for agent in sim.agents])\n",
    "        metric = np.mean(np.any(after_two=='C', axis=1))\n",
    "        self.metrics.append(metric)        \n"
   ]
  },
  {
   "cell_type": "code",
   "execution_count": 23,
   "id": "41181650-dca0-4e46-9b45-cd2a745035c3",
   "metadata": {},
   "outputs": [
    {
     "ename": "AttributeError",
     "evalue": "'PDSimulation' object has no attribute 'add_instrument'",
     "output_type": "error",
     "traceback": [
      "\u001b[1;31m---------------------------------------------------------------------------\u001b[0m",
      "\u001b[1;31mAttributeError\u001b[0m                            Traceback (most recent call last)",
      "Cell \u001b[1;32mIn[23], line 6\u001b[0m\n\u001b[0;32m      3\u001b[0m agents \u001b[38;5;241m=\u001b[39m make_identical_agents(\u001b[38;5;241m100\u001b[39m, \u001b[38;5;28mlist\u001b[39m(\u001b[38;5;124m'\u001b[39m\u001b[38;5;124mDDDDDDD\u001b[39m\u001b[38;5;124m'\u001b[39m))\n\u001b[0;32m      4\u001b[0m sim \u001b[38;5;241m=\u001b[39m PDSimulation(tour, agents)\n\u001b[1;32m----> 6\u001b[0m sim\u001b[38;5;241m.\u001b[39madd_instrument(MeanFitness())\n\u001b[0;32m      7\u001b[0m sim\u001b[38;5;241m.\u001b[39madd_instrument(Niceness())\n\u001b[0;32m      8\u001b[0m sim\u001b[38;5;241m.\u001b[39madd_instrument(Opening())\n",
      "\u001b[1;31mAttributeError\u001b[0m: 'PDSimulation' object has no attribute 'add_instrument'"
     ]
    }
   ],
   "source": [
    "tour = Tournament()\n",
    "\t\n",
    "agents = make_identical_agents(100, list('DDDDDDD'))\n",
    "sim = PDSimulation(tour, agents)\n",
    "\t\n",
    "sim.add_instrument(MeanFitness())\n",
    "sim.add_instrument(Niceness())\n",
    "sim.add_instrument(Opening())\n",
    "sim.add_instrument(Retaliating())\n",
    "sim.add_instrument(Forgiving()) \n"
   ]
  },
  {
   "cell_type": "code",
   "execution_count": null,
   "id": "67453b27-d8cf-45ba-b313-a4b31f1ce81c",
   "metadata": {},
   "outputs": [],
   "source": []
  }
 ],
 "metadata": {
  "kernelspec": {
   "display_name": "Python 3 (ipykernel)",
   "language": "python",
   "name": "python3"
  },
  "language_info": {
   "codemirror_mode": {
    "name": "ipython",
    "version": 3
   },
   "file_extension": ".py",
   "mimetype": "text/x-python",
   "name": "python",
   "nbconvert_exporter": "python",
   "pygments_lexer": "ipython3",
   "version": "3.12.4"
  }
 },
 "nbformat": 4,
 "nbformat_minor": 5
}
