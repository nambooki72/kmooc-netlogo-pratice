{
 "cells": [
  {
   "cell_type": "code",
   "execution_count": 14,
   "id": "8a316bbb-f289-48da-bfe8-a83fcddefbf1",
   "metadata": {},
   "outputs": [],
   "source": [
    "\n",
    "\n",
    "import matplotlib.pyplot as plt\n",
    "import numpy as np\n",
    "\t\n",
    "from os.path import basename, exists\n",
    "\n",
    "def download(url):\n",
    "    filename = basename(url)\n",
    "    if not exists(filename):\n",
    "        from urllib.request import urlretrieve\n",
    "        local, _ = urlretrieve(url, filename)\n",
    "        print('Downloaded ' + local)\n",
    "    \n",
    "download('https://github.com/AllenDowney/ThinkComplexity2/raw/master/notebooks/utils.py')\n",
    "download('https://github.com/AllenDowney/ThinkComplexity2/raw/master/notebooks/Cell2D.py')"
   ]
  },
  {
   "cell_type": "code",
   "execution_count": 15,
   "id": "c7462253-bed9-4d82-92a4-61581b2b4bb1",
   "metadata": {},
   "outputs": [],
   "source": [
    "from utils import decorate, savefig\n",
    "!mkdir -p figs"
   ]
  },
  {
   "cell_type": "code",
   "execution_count": 16,
   "id": "0f9b4433-61d0-482e-8a2a-d4c252fb9d43",
   "metadata": {},
   "outputs": [],
   "source": [
    "try:\n",
    "    import empiricaldist\n",
    "except ImportError:\n",
    "    !pip install empiricaldist  "
   ]
  },
  {
   "cell_type": "code",
   "execution_count": 17,
   "id": "a6b3692f-5425-4db6-9f80-d2440b2e6a56",
   "metadata": {},
   "outputs": [],
   "source": [
    "def locs_where(condition):\n",
    "    return list(zip(*np.nonzero(condition)))"
   ]
  },
  {
   "cell_type": "code",
   "execution_count": 18,
   "id": "fea667b9-496f-4f24-ade3-37f1ba90699a",
   "metadata": {},
   "outputs": [],
   "source": [
    "import seaborn as sns\n",
    "from matplotlib.colors import LinearSegmentedColormap\n",
    "\t\n",
    "palette = sns.color_palette('muted')\n",
    "colors = 'white', palette[1], palette[0]\n",
    "cmap = LinearSegmentedColormap.from_list('cmap', colors)  "
   ]
  },
  {
   "cell_type": "code",
   "execution_count": 19,
   "id": "d3650a49-9272-48e7-87db-c660669e19ad",
   "metadata": {},
   "outputs": [],
   "source": [
    "from scipy.signal import correlate2d\n",
    "from Cell2D import Cell2D, draw_array\n",
    "\t\n",
    "class Schelling(Cell2D):\n",
    "\n",
    "\n",
    "\n",
    "    options = dict(mode='same', boundary='wrap')\n",
    "\n",
    "\n",
    "\n",
    "    kernel = np.array([[1,1,1],\n",
    "\n",
    "                       [1,0,1],\n",
    "\n",
    "                       [1,1,1]], dtype=np.int8)\n",
    "\n",
    "\n",
    "\n",
    "    def __init__(self, n, p):\n",
    "\n",
    "        self.p = p\n",
    "\n",
    "\n",
    "\n",
    "        choices = np.array([0,1,2], dtype=np.int8)\n",
    "\n",
    "        probs = [0.1, 0.45, 0.45]\n",
    "\n",
    "        self.array = np.random.choice(choices, (n,n), p=probs)\n",
    "\n",
    "\n",
    "\n",
    "    def count_neighbors(self):\n",
    "\n",
    "\n",
    "\n",
    "        a = self.array\n",
    "\n",
    "\n",
    "\n",
    "        empty = a==0\n",
    "\n",
    "        red = a==1\n",
    "\n",
    "        blue = a==2\n",
    "\n",
    "\n",
    "\n",
    "        num_red = correlate2d(red, self.kernel, **self.options)\n",
    "\n",
    "        num_blue = correlate2d(blue, self.kernel, **self.options)\n",
    "\n",
    "        num_neighbors = num_red + num_blue\n",
    "\n",
    "\n",
    "\n",
    "        frac_red = num_red / num_neighbors\n",
    "\n",
    "        frac_blue = num_blue / num_neighbors\n",
    "\n",
    "\n",
    "\n",
    "        frac_same = np.where(red, frac_red, frac_blue)\n",
    "\n",
    "\n",
    "\n",
    "        frac_same[empty] = np.nan\n",
    "\n",
    "\n",
    "\n",
    "        return empty, frac_red, frac_blue, frac_same\n",
    "\n",
    "\n",
    "\n",
    "    def segregation(self):\n",
    "\n",
    "        _, _, _, frac_same = self.count_neighbors()\n",
    "\n",
    "        return np.nanmean(frac_same)\n",
    "\n",
    "\n",
    "\n",
    "    def step(self):\n",
    "\n",
    "\n",
    "\n",
    "        a = self.array\n",
    "\n",
    "        empty, _, _, frac_same = self.count_neighbors()\n",
    "\n",
    "\n",
    "\n",
    "        with np.errstate(invalid='ignore'):\n",
    "\n",
    "            unhappy = frac_same < self.p\n",
    "\n",
    "        unhappy_locs = locs_where(unhappy)\n",
    "\n",
    "        empty_locs = locs_where(empty)\n",
    "\n",
    "\n",
    "\n",
    "        if len(unhappy_locs):\n",
    "\n",
    "            np.random.shuffle(unhappy_locs)\n",
    "\n",
    "\n",
    "\n",
    "        num_empty = np.sum(empty)\n",
    "\n",
    "\n",
    "\n",
    "        for source in unhappy_locs:\n",
    "\n",
    "            i = np.random.randint(num_empty)\n",
    "\n",
    "            dest = empty_locs[i]\n",
    "\n",
    "\n",
    "\n",
    "            a[dest] = a[source]\n",
    "\n",
    "            a[source] = 0\n",
    "\n",
    "            empty_locs[i] = source\n",
    "\n",
    "\n",
    "\n",
    "            num_empty2 = np.sum(a==0)\n",
    "\n",
    "            assert num_empty == num_empty2\n",
    "\n",
    "\n",
    "\n",
    "        return np.nanmean(frac_same)\n",
    "\n",
    "\n",
    "\n",
    "    def draw(self):\n",
    "\n",
    "        return draw_array(self.array, cmap=cmap, vmax=2)"
   ]
  },
  {
   "cell_type": "code",
   "execution_count": 20,
   "id": "6c703a8e-eadb-411b-b015-b72cfee8737e",
   "metadata": {},
   "outputs": [],
   "source": [
    "    def count_neighbors(self):\n",
    "        a = self.array\n",
    "\t\t\t\n",
    "        empty = a==0\n",
    "        red = a==1\n",
    "        blue = a==2\n",
    "\t\t\t\n",
    "        num_red = correlate2d(red, self.kernel, **self.options)\n",
    "        num_blue = correlate2d(blue, self.kernel, **self.options)\n",
    "        num_neighbors = num_red + num_blue\n",
    "\t\t\t\n",
    "        frac_red = num_red / num_neighbors\n",
    "        frac_blue = num_blue / num_neighbors\n",
    "\t\t\t\n",
    "        frac_red[num_neighbors == 0] = 0\n",
    "        frac_blue[num_neighbors == 0] = 0\n",
    "\t\t\t\n",
    "        frac_same = np.where(red, frac_red, frac_blue)\n",
    "        frac_same[empty] = np.nan\n",
    "\t\t\t\n",
    "        return empty, frac_red, frac_blue, frac_same"
   ]
  },
  {
   "cell_type": "code",
   "execution_count": 21,
   "id": "224446bd-2cfc-4295-ba47-05c819e132f0",
   "metadata": {},
   "outputs": [],
   "source": [
    "    def segregation(self):\n",
    "        _, _, _, frac_same = self.count_neighbors()\n",
    "        return np.nanmean(frac_same)"
   ]
  },
  {
   "cell_type": "code",
   "execution_count": 22,
   "id": "f67f1642-bc7a-4041-9752-cba8d619b8c8",
   "metadata": {},
   "outputs": [],
   "source": [
    "    def step(self):\n",
    "        a = self.array\n",
    "        empty, _, _, frac_same = self.count_neighbors()\n",
    "\t\t\t\n",
    "        with np.errstate(invalid='ignore'):\n",
    "            unhappy = frac_same < self.p\n",
    "            unhappy_locs = locs_where(unhappy)          \n",
    "            empty_locs = locs_where(empty)\n",
    "\t\t\t\t\n",
    "        if len(unhappy_locs):\n",
    "            np.random.shuffle(unhappy_locs)\n",
    "\t\t\t\t\n",
    "        num_empty = np.sum(empty)\n",
    "\t\t\t\n",
    "        for source in unhappy_locs:\n",
    "            i = np.random.randint(num_empty)\n",
    "            dest = empty_locs[i]\n",
    "\t\t\t\t\n",
    "            a[dest] = a[source]\n",
    "            a[source] = 0\n",
    "            empty_locs[i] = source\n",
    "                \n",
    "            num_empty2 = np.sum(a==0)\n",
    "            assert num_empty == num_empty2\n",
    "\t\t\t\t\n",
    "        return np.nanmean(frac_same)"
   ]
  },
  {
   "cell_type": "code",
   "execution_count": 23,
   "id": "b9c7e113-437c-4459-a254-b616b82e0d6f",
   "metadata": {},
   "outputs": [],
   "source": [
    "    def draw(self):\n",
    "        return draw_array(self.array, cmap=cmap, vmax=2)    "
   ]
  },
  {
   "cell_type": "code",
   "execution_count": 24,
   "id": "1c5b18c4-546a-49b8-8674-3f151cc62384",
   "metadata": {},
   "outputs": [
    {
     "data": {
      "text/plain": [
       "0.5302818828680897"
      ]
     },
     "execution_count": 24,
     "metadata": {},
     "output_type": "execute_result"
    },
    {
     "data": {
      "image/png": "[encoded data removed]",
      "text/plain": [
       "<Figure size 640x480 with 1 Axes>"
      ]
     },
     "metadata": {},
     "output_type": "display_data"
    }
   ],
   "source": [
    "grid = Schelling(n=10, p=0.3)\n",
    "grid.draw()\n",
    "grid.segregation()"
   ]
  },
  {
   "cell_type": "code",
   "execution_count": 25,
   "id": "556b49f2-4cea-4784-aea6-f6ffaab8ab3d",
   "metadata": {},
   "outputs": [
    {
     "data": {
      "image/png": "[encoded data removed]",
      "text/plain": [
       "<Figure size 640x480 with 1 Axes>"
      ]
     },
     "metadata": {},
     "output_type": "display_data"
    }
   ],
   "source": [
    "grid = Schelling(n=100, p=0.3)\n",
    "grid.animate(frames=30, interval=0.1) "
   ]
  },
  {
   "cell_type": "code",
   "execution_count": 26,
   "id": "b607c5f8-dc0a-45d9-bd8d-668b9f59d344",
   "metadata": {},
   "outputs": [
    {
     "name": "stdout",
     "output_type": "stream",
     "text": [
      "Saving figure to file figs/chap09-1\n"
     ]
    },
    {
     "data": {
      "image/png": "[encoded data removed]",
      "text/plain": [
       "<Figure size 1000x400 with 3 Axes>"
      ]
     },
     "metadata": {},
     "output_type": "display_data"
    }
   ],
   "source": [
    "from utils import three_frame\n",
    "\t\n",
    "grid = Schelling(n=100, p=0.3)\n",
    "three_frame(grid, [0, 2, 8])\n",
    "\t\n",
    "savefig('figs/chap09-1')    "
   ]
  },
  {
   "cell_type": "code",
   "execution_count": 27,
   "id": "7e59d462-4d8e-4eaf-a662-7e1538c3c4df",
   "metadata": {},
   "outputs": [
    {
     "name": "stdout",
     "output_type": "stream",
     "text": [
      "0.5 0.8707797990077598 0.3707797990077598\n",
      "0.4 0.8181252110773387 0.4181252110773387\n",
      "0.3 0.7538847395404771 0.4538847395404771\n",
      "0.2 0.5729593164353953 0.3729593164353953\n",
      "Saving figure to file figs/chap09-2\n"
     ]
    },
    {
     "data": {
      "image/png": "[encoded data removed]",
      "text/plain": [
       "<Figure size 640x480 with 1 Axes>"
      ]
     },
     "metadata": {},
     "output_type": "display_data"
    }
   ],
   "source": [
    "from utils import set_palette\n",
    "set_palette('Blues', 5, reverse=True)\n",
    "\t\n",
    "np.random.seed(17)\n",
    "for p in [0.5, 0.4, 0.3, 0.2]:\n",
    "    grid = Schelling(n=100, p=p)\n",
    "    segs = [grid.step() for i in range(12)]\n",
    "    plt.plot(segs, label='p = %.1f' % p)\n",
    "    print(p, segs[-1], segs[-1] - p)\n",
    "\t\n",
    "decorate(xlabel='Time steps', ylabel='Segregation',\n",
    "                loc='lower right', ylim=[0, 1])\n",
    "\t\n",
    "savefig('figs/chap09-2')    "
   ]
  },
  {
   "cell_type": "code",
   "execution_count": null,
   "id": "ea66fd78-b8d1-449c-9593-852cd693b3c9",
   "metadata": {},
   "outputs": [],
   "source": []
  }
 ],
 "metadata": {
  "kernelspec": {
   "display_name": "Python 3 (ipykernel)",
   "language": "python",
   "name": "python3"
  },
  "language_info": {
   "codemirror_mode": {
    "name": "ipython",
    "version": 3
   },
   "file_extension": ".py",
   "mimetype": "text/x-python",
   "name": "python",
   "nbconvert_exporter": "python",
   "pygments_lexer": "ipython3",
   "version": "3.12.4"
  }
 },
 "nbformat": 4,
 "nbformat_minor": 5
}
