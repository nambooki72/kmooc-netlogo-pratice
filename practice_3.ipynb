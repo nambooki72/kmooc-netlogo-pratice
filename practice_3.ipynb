{
 "cells": [
  {
   "cell_type": "code",
   "execution_count": 24,
   "id": "03cac022-7fd0-4ebd-a26d-e5ce0243157a",
   "metadata": {},
   "outputs": [],
   "source": [
    "def earn(w,y):\n",
    "    return w+y\n",
    "\t\t\n",
    "def spend(w,x):\n",
    "    new_wealth = w -x\n",
    "    if new_wealth < 0:\n",
    "        print(\"자산 부족!!!\")\n",
    "    else:\n",
    "        return new_wealth"
   ]
  },
  {
   "cell_type": "code",
   "execution_count": 26,
   "id": "794a8e02-02b4-448c-9904-45eb571d198b",
   "metadata": {},
   "outputs": [
    {
     "name": "stdout",
     "output_type": "stream",
     "text": [
      "w0,w1,w2,w3,w4 =  100 110 90 100 80\n"
     ]
    }
   ],
   "source": [
    "w0=100\n",
    "w1=earn(w0,10)\n",
    "w2=spend(w1,20)\n",
    "w3=earn(w2,10)\n",
    "w4=spend(w3,20)\n",
    "print(\"w0,w1,w2,w3,w4 = \", w0,w1,w2,w3,w4)"
   ]
  },
  {
   "cell_type": "code",
   "execution_count": 28,
   "id": "96a319c3-6217-4a28-9bce-a694cd25f3af",
   "metadata": {},
   "outputs": [],
   "source": [
    "class Consumer:\n",
    "    def __init__(self, w):\n",
    "        self.wealth = w\n",
    "\t\t\t\t\n",
    "    def earn(self, y):\n",
    "        self.wealth += y\n",
    "\t\t\t\t\n",
    "    def spend(self, x):\n",
    "        new_wealth = self.wealth - x\n",
    "        if new_wealth < 0:\n",
    "            print(\"자산 부족!!!\")\n",
    "        else:\n",
    "            self.wealth = new_wealth"
   ]
  },
  {
   "cell_type": "code",
   "execution_count": 30,
   "id": "21ec7794-9e94-470c-a446-857a7f8f60c7",
   "metadata": {},
   "outputs": [
    {
     "name": "stdout",
     "output_type": "stream",
     "text": [
      "소비자 1의 최초 자산:  10 , 소비자 2의 최초 자산:  15\n"
     ]
    }
   ],
   "source": [
    "c1 = Consumer(10) \n",
    "c2 = Consumer(15)\n",
    "print(\"소비자 1의 최초 자산: \", c1.wealth, \", \" \"소비자 2의 최초 자산: \", c2.wealth)"
   ]
  },
  {
   "cell_type": "code",
   "execution_count": 32,
   "id": "48b27c13-b22f-4ea3-ac62-be4de1fac3ec",
   "metadata": {},
   "outputs": [
    {
     "name": "stdout",
     "output_type": "stream",
     "text": [
      "소비자 1의 소득 후 자산:  20 , 소비자 2의 소득 후 자산:  35\n"
     ]
    }
   ],
   "source": [
    "c1.earn(10)\n",
    "c2.earn(20)\n",
    "print(\"소비자 1의 소득 후 자산: \", c1.wealth, \", \" \"소비자 2의 소득 후 자산: \", c2.wealth)"
   ]
  },
  {
   "cell_type": "code",
   "execution_count": 42,
   "id": "08598dfd-194b-4ac4-87ae-cc47728328e6",
   "metadata": {},
   "outputs": [
    {
     "name": "stdout",
     "output_type": "stream",
     "text": [
      "자산 부족!!!\n",
      "자산 부족!!!\n",
      "소비자 1의 소비 후 자산:  0 , 소비자 2의 소비 후 자산:  15\n"
     ]
    }
   ],
   "source": [
    "c1.spend(10)\n",
    "c2.spend(40)\n",
    "print(\"소비자 1의 소비 후 자산: \", c1.wealth, \", \" \"소비자 2의 소비 후 자산: \", c2.wealth)"
   ]
  },
  {
   "cell_type": "code",
   "execution_count": 44,
   "id": "51801206-8946-49c0-affc-088f18aab59f",
   "metadata": {},
   "outputs": [
    {
     "data": {
      "text/plain": [
       "{'wealth': 0}"
      ]
     },
     "execution_count": 44,
     "metadata": {},
     "output_type": "execute_result"
    }
   ],
   "source": [
    "c1.__dict__\n",
    "\n"
   ]
  },
  {
   "cell_type": "code",
   "execution_count": 46,
   "id": "3165175b-d885-4229-8393-44d7c9bcca89",
   "metadata": {},
   "outputs": [
    {
     "data": {
      "text/plain": [
       "{'wealth': 15}"
      ]
     },
     "execution_count": 46,
     "metadata": {},
     "output_type": "execute_result"
    }
   ],
   "source": [
    "c2.__dict__\n",
    "\n"
   ]
  },
  {
   "cell_type": "code",
   "execution_count": null,
   "id": "3a56f251-a234-4bfb-a16a-006f3eb29231",
   "metadata": {},
   "outputs": [],
   "source": []
  }
 ],
 "metadata": {
  "kernelspec": {
   "display_name": "Python 3 (ipykernel)",
   "language": "python",
   "name": "python3"
  },
  "language_info": {
   "codemirror_mode": {
    "name": "ipython",
    "version": 3
   },
   "file_extension": ".py",
   "mimetype": "text/x-python",
   "name": "python",
   "nbconvert_exporter": "python",
   "pygments_lexer": "ipython3",
   "version": "3.12.4"
  }
 },
 "nbformat": 4,
 "nbformat_minor": 5
}
