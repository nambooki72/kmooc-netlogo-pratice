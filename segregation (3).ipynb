{
 "cells": [
  {
   "cell_type": "code",
   "execution_count": 123,
   "id": "8a316bbb-f289-48da-bfe8-a83fcddefbf1",
   "metadata": {},
   "outputs": [],
   "source": [
    "import matplotlib.pyplot as plt\n",
    "import numpy as np\n",
    "\t\n",
    "from os.path import basename, exists\n",
    "\n",
    "def download(url):\n",
    "    filename = basename(url)\n",
    "    if not exists(filename):\n",
    "        from urllib.request import urlretrieve\n",
    "        local, _ = urlretrieve(url, filename)\n",
    "        print('Downloaded ' + local)\n",
    "    \n",
    "download('https://github.com/AllenDowney/ThinkComplexity2/raw/master/notebooks/utils.py')\n",
    "download('https://github.com/AllenDowney/ThinkComplexity2/raw/master/notebooks/Cell2D.py')"
   ]
  },
  {
   "cell_type": "code",
   "execution_count": 125,
   "id": "c7462253-bed9-4d82-92a4-61581b2b4bb1",
   "metadata": {},
   "outputs": [
    {
     "name": "stderr",
     "output_type": "stream",
     "text": [
      "���� ���͸� �Ǵ� ���� -p��(��) �̹� �ֽ��ϴ�.\n",
      "���� ���� ���� �� ���� �߻�: -p.\n",
      "���� ���͸� �Ǵ� ���� figs��(��) �̹� �ֽ��ϴ�.\n",
      "���� ���� ���� �� ���� �߻�: figs.\n"
     ]
    }
   ],
   "source": [
    "from utils import decorate, savefig\n",
    "!mkdir -p figs"
   ]
  },
  {
   "cell_type": "code",
   "execution_count": 127,
   "id": "0f9b4433-61d0-482e-8a2a-d4c252fb9d43",
   "metadata": {},
   "outputs": [],
   "source": [
    "try:\n",
    "    import empiricaldist\n",
    "except ImportError:\n",
    "    !pip install empiricaldist  "
   ]
  },
  {
   "cell_type": "code",
   "execution_count": 129,
   "id": "a6b3692f-5425-4db6-9f80-d2440b2e6a56",
   "metadata": {},
   "outputs": [],
   "source": [
    "def locs_where(condition):\n",
    "    return list(zip(*np.nonzero(condition)))"
   ]
  },
  {
   "cell_type": "code",
   "execution_count": 131,
   "id": "fea667b9-496f-4f24-ade3-37f1ba90699a",
   "metadata": {},
   "outputs": [],
   "source": [
    "import seaborn as sns\n",
    "from matplotlib.colors import LinearSegmentedColormap\n",
    "\t\n",
    "palette = sns.color_palette('muted')\n",
    "colors = 'white', palette[1], palette[0]\n",
    "cmap = LinearSegmentedColormap.from_list('cmap', colors)  "
   ]
  },
  {
   "cell_type": "code",
   "execution_count": 133,
   "id": "d3650a49-9272-48e7-87db-c660669e19ad",
   "metadata": {},
   "outputs": [],
   "source": [
    "from scipy.signal import correlate2d\n",
    "from Cell2D import Cell2D, draw_array\n",
    "\t\n",
    "class Schelling(Cell2D):\n",
    "    options = dict(mode='same', boundary='wrap')\n",
    "\t\t\n",
    "    kernel = np.array([[1, 1, 1],\n",
    "                       [1, 0, 1],\n",
    "                       [1, 1, 1]], dtype=np.int8)\n",
    "\t\t\t\t\t\t   \n",
    "    def __init__(self, n, p):\n",
    "        self.p = p\n",
    "        choices = np.array([0, 1, 2], dtype=np.int8)\n",
    "        probs = [0.1, 0.45, 0.45]\n",
    "        self.array = np.random.choice(choices, (n, n), p=probs)"
   ]
  },
  {
   "cell_type": "code",
   "execution_count": 135,
   "id": "6c703a8e-eadb-411b-b015-b72cfee8737e",
   "metadata": {},
   "outputs": [],
   "source": [
    "    def count_neighbors(self):\n",
    "        a = self.array\n",
    "\t\t\t\n",
    "        empty = a==0\n",
    "        red = a==1\n",
    "        blue = a==2\n",
    "\t\t\t\n",
    "        num_red = correlate2d(red, self.kernel, **self.options)\n",
    "        num_blue = correlate2d(blue, self.kernel, **self.options)\n",
    "        num_neighbors = num_red + num_blue\n",
    "\t\t\t\n",
    "        frac_red = num_red / num_neighbors\n",
    "        frac_blue = num_blue / num_neighbors\n",
    "\t\t\t\n",
    "        frac_red[num_neighbors == 0] = 0\n",
    "        frac_blue[num_neighbors == 0] = 0\n",
    "\t\t\t\n",
    "        frac_same = np.where(red, frac_red, frac_blue)\n",
    "        frac_same[empty] = np.nan\n",
    "\t\t\t\n",
    "        return empty, frac_red, frac_blue, frac_same"
   ]
  },
  {
   "cell_type": "code",
   "execution_count": 137,
   "id": "224446bd-2cfc-4295-ba47-05c819e132f0",
   "metadata": {},
   "outputs": [],
   "source": [
    "    def segregation(self):\n",
    "        _, _, _, frac_same = self.count_neighbors()\n",
    "        return np.nanmean(frac_same)"
   ]
  },
  {
   "cell_type": "code",
   "execution_count": 139,
   "id": "f67f1642-bc7a-4041-9752-cba8d619b8c8",
   "metadata": {},
   "outputs": [],
   "source": [
    "    def step(self):\n",
    "        a = self.array\n",
    "        empty, _, _, frac_same = self.count_neighbors()\n",
    "\t\t\t\n",
    "        with np.errstate(invalid='ignore'):\n",
    "            unhappy = frac_same < self.p\n",
    "            unhappy_locs = locs_where(unhappy)          \n",
    "            empty_locs = locs_where(empty)\n",
    "\t\t\t\t\n",
    "        if len(unhappy_locs):\n",
    "            np.random.shuffle(unhappy_locs)\n",
    "\t\t\t\t\n",
    "        num_empty = np.sum(empty)\n",
    "\t\t\t\n",
    "        for source in unhappy_locs:\n",
    "            i = np.random.randint(num_empty)\n",
    "            dest = empty_locs[i]\n",
    "\t\t\t\t\n",
    "            a[dest] = a[source]\n",
    "            a[source] = 0\n",
    "            empty_locs[i] = source\n",
    "                \n",
    "            num_empty2 = np.sum(a==0)\n",
    "            assert num_empty == num_empty2\n",
    "\t\t\t\t\n",
    "        return np.nanmean(frac_same)"
   ]
  },
  {
   "cell_type": "code",
   "execution_count": 141,
   "id": "b9c7e113-437c-4459-a254-b616b82e0d6f",
   "metadata": {},
   "outputs": [],
   "source": [
    "    def draw(self):\n",
    "        return draw_array(self.array, cmap=cmap, vmax=2)    "
   ]
  },
  {
   "cell_type": "code",
   "execution_count": 147,
   "id": "b8038f37-7185-4d45-bf73-40db9e949f10",
   "metadata": {},
   "outputs": [
    {
     "ename": "AttributeError",
     "evalue": "'Schelling' object has no attribute 'segregation'",
     "output_type": "error",
     "traceback": [
      "\u001b[1;31m---------------------------------------------------------------------------\u001b[0m",
      "\u001b[1;31mAttributeError\u001b[0m                            Traceback (most recent call last)",
      "Cell \u001b[1;32mIn[147], line 3\u001b[0m\n\u001b[0;32m      1\u001b[0m grid \u001b[38;5;241m=\u001b[39m Schelling(n\u001b[38;5;241m=\u001b[39m\u001b[38;5;241m10\u001b[39m, p\u001b[38;5;241m=\u001b[39m\u001b[38;5;241m0.3\u001b[39m)\n\u001b[0;32m      2\u001b[0m grid\u001b[38;5;241m.\u001b[39mdraw()\n\u001b[1;32m----> 3\u001b[0m grid\u001b[38;5;241m.\u001b[39msegregation()\n",
      "\u001b[1;31mAttributeError\u001b[0m: 'Schelling' object has no attribute 'segregation'"
     ]
    },
    {
     "data": {
      "image/png": "[encoded data removed]",
      "text/plain": [
       "<Figure size 640x480 with 1 Axes>"
      ]
     },
     "metadata": {},
     "output_type": "display_data"
    }
   ],
   "source": [
    "grid = Schelling(n=10, p=0.3)\n",
    "grid.draw()\n",
    "grid.segregation()"
   ]
  },
  {
   "cell_type": "code",
   "execution_count": 149,
   "id": "c5ff5591-e9e9-4132-9a2c-6c0071467daa",
   "metadata": {},
   "outputs": [
    {
     "ename": "AttributeError",
     "evalue": "'Schelling' object has no attribute 'step'",
     "output_type": "error",
     "traceback": [
      "\u001b[1;31m---------------------------------------------------------------------------\u001b[0m",
      "\u001b[1;31mAttributeError\u001b[0m                            Traceback (most recent call last)",
      "Cell \u001b[1;32mIn[149], line 2\u001b[0m\n\u001b[0;32m      1\u001b[0m grid \u001b[38;5;241m=\u001b[39m Schelling(n\u001b[38;5;241m=\u001b[39m\u001b[38;5;241m100\u001b[39m, p\u001b[38;5;241m=\u001b[39m\u001b[38;5;241m0.3\u001b[39m)\n\u001b[1;32m----> 2\u001b[0m grid\u001b[38;5;241m.\u001b[39manimate(frames\u001b[38;5;241m=\u001b[39m\u001b[38;5;241m30\u001b[39m, interval\u001b[38;5;241m=\u001b[39m\u001b[38;5;241m0.1\u001b[39m)\n",
      "File \u001b[1;32m~\\Cell2D.py:63\u001b[0m, in \u001b[0;36mCell2D.animate\u001b[1;34m(self, frames, interval, step)\u001b[0m\n\u001b[0;32m     56\u001b[0m \u001b[38;5;250m\u001b[39m\u001b[38;5;124;03m\"\"\"Animate the automaton.\u001b[39;00m\n\u001b[0;32m     57\u001b[0m \u001b[38;5;124;03m\u001b[39;00m\n\u001b[0;32m     58\u001b[0m \u001b[38;5;124;03mframes: number of frames to draw\u001b[39;00m\n\u001b[0;32m     59\u001b[0m \u001b[38;5;124;03minterval: time between frames in seconds\u001b[39;00m\n\u001b[0;32m     60\u001b[0m \u001b[38;5;124;03miters: number of steps between frames\u001b[39;00m\n\u001b[0;32m     61\u001b[0m \u001b[38;5;124;03m\"\"\"\u001b[39;00m\n\u001b[0;32m     62\u001b[0m \u001b[38;5;28;01mif\u001b[39;00m step \u001b[38;5;129;01mis\u001b[39;00m \u001b[38;5;28;01mNone\u001b[39;00m:\n\u001b[1;32m---> 63\u001b[0m     step \u001b[38;5;241m=\u001b[39m \u001b[38;5;28mself\u001b[39m\u001b[38;5;241m.\u001b[39mstep\n\u001b[0;32m     65\u001b[0m plt\u001b[38;5;241m.\u001b[39mfigure()\n\u001b[0;32m     66\u001b[0m \u001b[38;5;28;01mtry\u001b[39;00m:\n",
      "\u001b[1;31mAttributeError\u001b[0m: 'Schelling' object has no attribute 'step'"
     ]
    }
   ],
   "source": [
    "grid = Schelling(n=100, p=0.3)\n",
    "grid.animate(frames=30, interval=0.1)   "
   ]
  },
  {
   "cell_type": "code",
   "execution_count": 151,
   "id": "ac32ec19-892e-4d39-8f82-b720c09cb431",
   "metadata": {},
   "outputs": [
    {
     "ename": "AttributeError",
     "evalue": "'Schelling' object has no attribute 'step'",
     "output_type": "error",
     "traceback": [
      "\u001b[1;31m---------------------------------------------------------------------------\u001b[0m",
      "\u001b[1;31mAttributeError\u001b[0m                            Traceback (most recent call last)",
      "Cell \u001b[1;32mIn[151], line 4\u001b[0m\n\u001b[0;32m      1\u001b[0m \u001b[38;5;28;01mfrom\u001b[39;00m \u001b[38;5;21;01mutils\u001b[39;00m \u001b[38;5;28;01mimport\u001b[39;00m three_frame\n\u001b[0;32m      3\u001b[0m grid \u001b[38;5;241m=\u001b[39m Schelling(n\u001b[38;5;241m=\u001b[39m\u001b[38;5;241m100\u001b[39m, p\u001b[38;5;241m=\u001b[39m\u001b[38;5;241m0.3\u001b[39m)\n\u001b[1;32m----> 4\u001b[0m three_frame(grid, [\u001b[38;5;241m0\u001b[39m, \u001b[38;5;241m2\u001b[39m, \u001b[38;5;241m8\u001b[39m])\n\u001b[0;32m      6\u001b[0m savefig(\u001b[38;5;124m'\u001b[39m\u001b[38;5;124mfigs/chap09-1\u001b[39m\u001b[38;5;124m'\u001b[39m)\n",
      "File \u001b[1;32m~\\utils.py:22\u001b[0m, in \u001b[0;36mthree_frame\u001b[1;34m(world, n_seq, seed)\u001b[0m\n\u001b[0;32m     20\u001b[0m \u001b[38;5;28;01mfor\u001b[39;00m i, n \u001b[38;5;129;01min\u001b[39;00m \u001b[38;5;28menumerate\u001b[39m(n_seq):\n\u001b[0;32m     21\u001b[0m     plt\u001b[38;5;241m.\u001b[39msubplot(\u001b[38;5;241m1\u001b[39m, \u001b[38;5;241m3\u001b[39m, i\u001b[38;5;241m+\u001b[39m\u001b[38;5;241m1\u001b[39m)\n\u001b[1;32m---> 22\u001b[0m     world\u001b[38;5;241m.\u001b[39mloop(n)\n\u001b[0;32m     23\u001b[0m     world\u001b[38;5;241m.\u001b[39mdraw()\n\u001b[0;32m     25\u001b[0m plt\u001b[38;5;241m.\u001b[39mtight_layout()\n",
      "File \u001b[1;32m~\\Cell2D.py:48\u001b[0m, in \u001b[0;36mCell2D.loop\u001b[1;34m(self, iters)\u001b[0m\n\u001b[0;32m     46\u001b[0m \u001b[38;5;250m\u001b[39m\u001b[38;5;124;03m\"\"\"Runs the given number of steps.\"\"\"\u001b[39;00m\n\u001b[0;32m     47\u001b[0m \u001b[38;5;28;01mfor\u001b[39;00m i \u001b[38;5;129;01min\u001b[39;00m \u001b[38;5;28mrange\u001b[39m(iters):\n\u001b[1;32m---> 48\u001b[0m     \u001b[38;5;28mself\u001b[39m\u001b[38;5;241m.\u001b[39mstep()\n",
      "\u001b[1;31mAttributeError\u001b[0m: 'Schelling' object has no attribute 'step'"
     ]
    },
    {
     "data": {
      "image/png": "[encoded data removed]",
      "text/plain": [
       "<Figure size 1000x400 with 2 Axes>"
      ]
     },
     "metadata": {},
     "output_type": "display_data"
    }
   ],
   "source": [
    "from utils import three_frame\n",
    "\t\n",
    "grid = Schelling(n=100, p=0.3)\n",
    "three_frame(grid, [0, 2, 8])\n",
    "\t\n",
    "savefig('figs/chap09-1')   "
   ]
  },
  {
   "cell_type": "code",
   "execution_count": 153,
   "id": "fe84e2c7-9b2c-4526-8834-58d2e9b252cc",
   "metadata": {},
   "outputs": [
    {
     "ename": "AttributeError",
     "evalue": "'Schelling' object has no attribute 'step'",
     "output_type": "error",
     "traceback": [
      "\u001b[1;31m---------------------------------------------------------------------------\u001b[0m",
      "\u001b[1;31mAttributeError\u001b[0m                            Traceback (most recent call last)",
      "Cell \u001b[1;32mIn[153], line 7\u001b[0m\n\u001b[0;32m      5\u001b[0m \u001b[38;5;28;01mfor\u001b[39;00m p \u001b[38;5;129;01min\u001b[39;00m [\u001b[38;5;241m0.5\u001b[39m, \u001b[38;5;241m0.4\u001b[39m, \u001b[38;5;241m0.3\u001b[39m, \u001b[38;5;241m0.2\u001b[39m]:\n\u001b[0;32m      6\u001b[0m     grid \u001b[38;5;241m=\u001b[39m Schelling(n\u001b[38;5;241m=\u001b[39m\u001b[38;5;241m100\u001b[39m, p\u001b[38;5;241m=\u001b[39mp)\n\u001b[1;32m----> 7\u001b[0m     segs \u001b[38;5;241m=\u001b[39m [grid\u001b[38;5;241m.\u001b[39mstep() \u001b[38;5;28;01mfor\u001b[39;00m i \u001b[38;5;129;01min\u001b[39;00m \u001b[38;5;28mrange\u001b[39m(\u001b[38;5;241m12\u001b[39m)]\n\u001b[0;32m      8\u001b[0m     plt\u001b[38;5;241m.\u001b[39mplot(segs, label\u001b[38;5;241m=\u001b[39m\u001b[38;5;124m'\u001b[39m\u001b[38;5;124mp = \u001b[39m\u001b[38;5;132;01m%.1f\u001b[39;00m\u001b[38;5;124m'\u001b[39m \u001b[38;5;241m%\u001b[39m p)\n\u001b[0;32m      9\u001b[0m     \u001b[38;5;28mprint\u001b[39m(p, segs[\u001b[38;5;241m-\u001b[39m\u001b[38;5;241m1\u001b[39m], segs[\u001b[38;5;241m-\u001b[39m\u001b[38;5;241m1\u001b[39m] \u001b[38;5;241m-\u001b[39m p)\n",
      "\u001b[1;31mAttributeError\u001b[0m: 'Schelling' object has no attribute 'step'"
     ]
    },
    {
     "data": {
      "image/png": "[encoded data removed]",
      "text/plain": [
       "<Figure size 640x480 with 1 Axes>"
      ]
     },
     "metadata": {},
     "output_type": "display_data"
    }
   ],
   "source": [
    "from utils import set_palette\n",
    "set_palette('Blues', 5, reverse=True)\n",
    "\t\n",
    "np.random.seed(17)\n",
    "for p in [0.5, 0.4, 0.3, 0.2]:\n",
    "    grid = Schelling(n=100, p=p)\n",
    "    segs = [grid.step() for i in range(12)]\n",
    "    plt.plot(segs, label='p = %.1f' % p)\n",
    "    print(p, segs[-1], segs[-1] - p)\n",
    "\t\n",
    "decorate(xlabel='Time steps', ylabel='Segregation',\n",
    "                loc='lower right', ylim=[0, 1])\n",
    "\t\n",
    "savefig('figs/chap09-2')    "
   ]
  },
  {
   "cell_type": "code",
   "execution_count": null,
   "id": "7d4e97bd-fc75-40a7-9b69-c700239edc0a",
   "metadata": {},
   "outputs": [],
   "source": []
  }
 ],
 "metadata": {
  "kernelspec": {
   "display_name": "Python 3 (ipykernel)",
   "language": "python",
   "name": "python3"
  },
  "language_info": {
   "codemirror_mode": {
    "name": "ipython",
    "version": 3
   },
   "file_extension": ".py",
   "mimetype": "text/x-python",
   "name": "python",
   "nbconvert_exporter": "python",
   "pygments_lexer": "ipython3",
   "version": "3.12.4"
  }
 },
 "nbformat": 4,
 "nbformat_minor": 5
}
