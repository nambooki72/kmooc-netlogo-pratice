{
 "cells": [
  {
   "cell_type": "code",
   "execution_count": 3,
   "id": "8a316bbb-f289-48da-bfe8-a83fcddefbf1",
   "metadata": {},
   "outputs": [],
   "source": [
    "import matplotlib.pyplot as plt\n",
    "import numpy as np\n",
    "\t\n",
    "from os.path import basename, exists\n",
    "\n",
    "def download(url):\n",
    "    filename = basename(url)\n",
    "    if not exists(filename):\n",
    "        from urllib.request import urlretrieve\n",
    "        local, _ = urlretrieve(url, filename)\n",
    "        print('Downloaded ' + local)\n",
    "    \n",
    "download('https://github.com/AllenDowney/ThinkComplexity2/raw/master/notebooks/utils.py')\n",
    "download('https://github.com/AllenDowney/ThinkComplexity2/raw/master/notebooks/Cell2D.py')"
   ]
  },
  {
   "cell_type": "code",
   "execution_count": 5,
   "id": "c7462253-bed9-4d82-92a4-61581b2b4bb1",
   "metadata": {},
   "outputs": [],
   "source": [
    "from utils import decorate, savefig\n",
    "!mkdir -p figs"
   ]
  },
  {
   "cell_type": "code",
   "execution_count": 7,
   "id": "0f9b4433-61d0-482e-8a2a-d4c252fb9d43",
   "metadata": {},
   "outputs": [
    {
     "name": "stdout",
     "output_type": "stream",
     "text": [
      "Collecting empiricaldist\n",
      "  Downloading empiricaldist-0.7.4.tar.gz (12 kB)\n",
      "  Installing build dependencies: started\n",
      "  Installing build dependencies: finished with status 'done'\n",
      "  Getting requirements to build wheel: started\n",
      "  Getting requirements to build wheel: finished with status 'done'\n",
      "  Preparing metadata (pyproject.toml): started\n",
      "  Preparing metadata (pyproject.toml): finished with status 'done'\n",
      "Building wheels for collected packages: empiricaldist\n",
      "  Building wheel for empiricaldist (pyproject.toml): started\n",
      "  Building wheel for empiricaldist (pyproject.toml): finished with status 'done'\n",
      "  Created wheel for empiricaldist: filename=empiricaldist-0.7.4-py3-none-any.whl size=12278 sha256=cf08da4c43b6b4ee652c5d3e8a4375c0741891dc161c4411f257cead061c7999\n",
      "  Stored in directory: c:\\users\\user\\appdata\\local\\pip\\cache\\wheels\\99\\9d\\27\\3dc07cda48f486cb3c5938a18ddc47fd50023852841c3c3e42\n",
      "Successfully built empiricaldist\n",
      "Installing collected packages: empiricaldist\n",
      "Successfully installed empiricaldist-0.7.4\n"
     ]
    }
   ],
   "source": [
    "try:\n",
    "    import empiricaldist\n",
    "except ImportError:\n",
    "    !pip install empiricaldist  "
   ]
  },
  {
   "cell_type": "code",
   "execution_count": 9,
   "id": "a6b3692f-5425-4db6-9f80-d2440b2e6a56",
   "metadata": {},
   "outputs": [],
   "source": [
    "def locs_where(condition):\n",
    "    return list(zip(*np.nonzero(condition)))"
   ]
  },
  {
   "cell_type": "code",
   "execution_count": 11,
   "id": "fea667b9-496f-4f24-ade3-37f1ba90699a",
   "metadata": {},
   "outputs": [],
   "source": [
    "import seaborn as sns\n",
    "from matplotlib.colors import LinearSegmentedColormap\n",
    "\t\n",
    "palette = sns.color_palette('muted')\n",
    "colors = 'white', palette[1], palette[0]\n",
    "cmap = LinearSegmentedColormap.from_list('cmap', colors)  "
   ]
  },
  {
   "cell_type": "code",
   "execution_count": 13,
   "id": "d3650a49-9272-48e7-87db-c660669e19ad",
   "metadata": {},
   "outputs": [],
   "source": [
    "from scipy.signal import correlate2d\n",
    "from Cell2D import Cell2D, draw_array\n",
    "\t\n",
    "class Schelling(Cell2D):\n",
    "    options = dict(mode='same', boundary='wrap')\n",
    "\t\t\n",
    "    kernel = np.array([[1, 1, 1],\n",
    "                       [1, 0, 1],\n",
    "                       [1, 1, 1]], dtype=np.int8)\n",
    "\t\t\t\t\t\t   \n",
    "    def __init__(self, n, p):\n",
    "        self.p = p\n",
    "        choices = np.array([0, 1, 2], dtype=np.int8)\n",
    "        probs = [0.1, 0.45, 0.45]\n",
    "        self.array = np.random.choice(choices, (n, n), p=probs)"
   ]
  },
  {
   "cell_type": "code",
   "execution_count": 15,
   "id": "3c74c393-0a69-401e-a1b9-8637f3c6e2b1",
   "metadata": {},
   "outputs": [],
   "source": [
    "    def count_neighbors(self):\n",
    "        a = self.array\n",
    "\t\t\t\n",
    "        empty = a==0\n",
    "        red = a==1\n",
    "        blue = a==2\n",
    "\t\t\t\n",
    "        num_red = correlate2d(red, self.kernel, **self.options)\n",
    "        num_blue = correlate2d(blue, self.kernel, **self.options)\n",
    "        num_neighbors = num_red + num_blue\n",
    "\t\t\t\n",
    "        frac_red = num_red / num_neighbors\n",
    "        frac_blue = num_blue / num_neighbors\n",
    "\t\t\t\n",
    "        frac_red[num_neighbors == 0] = 0\n",
    "        frac_blue[num_neighbors == 0] = 0\n",
    "\t\t\t\n",
    "        frac_same = np.where(red, frac_red, frac_blue)\n",
    "        frac_same[empty] = np.nan\n",
    "\t\t\t\n",
    "        return empty, frac_red, frac_blue, frac_same\n",
    "\n"
   ]
  },
  {
   "cell_type": "code",
   "execution_count": null,
   "id": "b8beb1be-432a-4183-ae5f-1bb7991268f3",
   "metadata": {},
   "outputs": [],
   "source": []
  }
 ],
 "metadata": {
  "kernelspec": {
   "display_name": "Python 3 (ipykernel)",
   "language": "python",
   "name": "python3"
  },
  "language_info": {
   "codemirror_mode": {
    "name": "ipython",
    "version": 3
   },
   "file_extension": ".py",
   "mimetype": "text/x-python",
   "name": "python",
   "nbconvert_exporter": "python",
   "pygments_lexer": "ipython3",
   "version": "3.12.4"
  }
 },
 "nbformat": 4,
 "nbformat_minor": 5
}
