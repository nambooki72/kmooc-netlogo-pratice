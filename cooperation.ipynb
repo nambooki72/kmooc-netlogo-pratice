{
 "cells": [
  {
   "cell_type": "code",
   "execution_count": 55,
   "id": "1c562642-0677-48fa-8664-8758a9de31da",
   "metadata": {},
   "outputs": [],
   "source": [
    "class Simulation:\n",
    "    def __init__(self, fit_land, agents):\n",
    "        self.fit_land = fit_land\n",
    "        self.agents = np.asarray(agents)\n",
    "        self.instruments = []"
   ]
  },
  {
   "cell_type": "code",
   "execution_count": 57,
   "id": "d27bbd8c-f273-4009-8457-53993af2a101",
   "metadata": {},
   "outputs": [],
   "source": [
    "    def add_instrument(self, instrument):\n",
    "        self.instruments.append(instrument)\n",
    "    \t\t\t\n",
    "    def plot(self, index, *args, **kwargs):\n",
    "        self.instruments[index].plot(*args, **kwargs)"
   ]
  },
  {
   "cell_type": "code",
   "execution_count": 59,
   "id": "a55c13ba-ef4e-4822-b6e0-ec7ffb2341ee",
   "metadata": {},
   "outputs": [],
   "source": [
    "    def run(self, num_steps=500):\n",
    "        self.update_instruments()\n",
    "\t\t\t\n",
    "        for _ in range(num_steps):\n",
    "            self.step()\n",
    "                                \n",
    "    def step(self):\n",
    "        n = len(self.agents)\n",
    "        fits = self.get_fitnesses()\n",
    "\t\t\t\n",
    "        index_dead = self.choose_dead(fits)\n",
    "        num_dead = len(index_dead)\n",
    "\t\t\t\n",
    "        replacements = self.choose_replacements(num_dead, fits)\n",
    "        self.agents[index_dead] = replacements\n",
    "\t\t\t\n",
    "        self.update_instruments()"
   ]
  },
  {
   "cell_type": "code",
   "execution_count": 61,
   "id": "fe5fbc55-7798-4aba-b405-8576a0a75447",
   "metadata": {},
   "outputs": [
    {
     "name": "stdout",
     "output_type": "stream",
     "text": [
      "28\n"
     ]
    },
    {
     "data": {
      "text/plain": [
       "'\\n별 * 1개 : 인수로 풀어줌\\n별 ** 2개 : 딕셔너리로 풀어(unpacking)\\n'"
      ]
     },
     "execution_count": 61,
     "metadata": {},
     "output_type": "execute_result"
    }
   ],
   "source": [
    "def sum(a,b,c,d):\n",
    "    return a + b + c + d\n",
    "\n",
    "values1 = (1,2)\n",
    "values2 = {'c': 10, 'd': 15}\n",
    "\n",
    "s=sum(*values1, **values2)\n",
    "print(s)\n",
    "\n",
    "\"\"\"\n",
    "별 * 1개 : 인수로 풀어줌\n",
    "별 ** 2개 : 딕셔너리로 풀어(unpacking)\n",
    "\"\"\""
   ]
  },
  {
   "cell_type": "code",
   "execution_count": 73,
   "id": "1dec621c-8162-4000-a84d-269eda391f8a",
   "metadata": {},
   "outputs": [],
   "source": [
    "    def update_instruments(self):\n",
    "        for instrument in self.instruments:\n",
    "            instrument.update(self)\n",
    "    \t\t\n",
    "    def get_locs(self):\n",
    "        return [tuple(agent.loc) for agent in self.agents]\n",
    "\t\t\t\n",
    "    def get_fitnesses(self):\n",
    "        fits = [agent.fitness for agent in self.agents]\n",
    "        return np.array(fits)\n",
    "    \t\t\t\n",
    "    def choose_dead(self, ps):\n",
    "        n = len(self.agents)\n",
    "        is_dead = np.random.random(n) < 0.1\n",
    "        index_dead = np.nonzero(is_dead)[0]\n",
    "        return index_dead\n",
    "\t\t\t\n",
    "    def choose_replacements(self, n, weights):\n",
    "        agents = np.random.choice(self.agents, size=n, replace=True)\n",
    "        replacements = [agent.copy() for agent in agents]\n",
    "        return replacements\n"
   ]
  },
  {
   "cell_type": "code",
   "execution_count": 75,
   "id": "9d3d83d7-9613-48b3-a006-637bd535d754",
   "metadata": {},
   "outputs": [],
   "source": [
    "class Instrument:\n",
    "    def __init__(self):\n",
    "        self.metrics = []\n",
    "\t\t\n",
    "    def update(self, sim):\n",
    "        pass\n",
    "                    \n",
    "    def plot(self, **options):\n",
    "        plt.plot(self.metrics, **options)"
   ]
  },
  {
   "cell_type": "code",
   "execution_count": 79,
   "id": "350f4723-7a54-476d-b7ca-4b3e11d5c0bd",
   "metadata": {},
   "outputs": [],
   "source": [
    "class MeanFitness(Instrument):\n",
    "    label = 'Mean fitness'\n",
    "\n",
    "    def update(self, sim):\n",
    "        mean = np.nanmean(sim.get_fitnesses())\n",
    "        self.metrics.append(mean)\n",
    "\n",
    "    def plot(self, **options):\n",
    "        plt.plot(self.metrics, **options)"
   ]
  },
  {
   "cell_type": "code",
   "execution_count": null,
   "id": "3677bfca-daa3-42b2-8211-ab96e94d902c",
   "metadata": {},
   "outputs": [],
   "source": []
  }
 ],
 "metadata": {
  "kernelspec": {
   "display_name": "Python 3 (ipykernel)",
   "language": "python",
   "name": "python3"
  },
  "language_info": {
   "codemirror_mode": {
    "name": "ipython",
    "version": 3
   },
   "file_extension": ".py",
   "mimetype": "text/x-python",
   "name": "python",
   "nbconvert_exporter": "python",
   "pygments_lexer": "ipython3",
   "version": "3.12.4"
  }
 },
 "nbformat": 4,
 "nbformat_minor": 5
}
