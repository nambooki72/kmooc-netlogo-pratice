{
 "cells": [
  {
   "cell_type": "code",
   "execution_count": 1,
   "id": "f8fb96a1-87ec-4dcc-8dae-15148071f60c",
   "metadata": {},
   "outputs": [],
   "source": [
    "import numpy as np"
   ]
  },
  {
   "cell_type": "code",
   "execution_count": 3,
   "id": "041becc2-f349-4b06-beae-704f14a98e36",
   "metadata": {},
   "outputs": [
    {
     "ename": "NameError",
     "evalue": "name 'numpy' is not defined",
     "output_type": "error",
     "traceback": [
      "\u001b[1;31m---------------------------------------------------------------------------\u001b[0m",
      "\u001b[1;31mNameError\u001b[0m                                 Traceback (most recent call last)",
      "Cell \u001b[1;32mIn[3], line 1\u001b[0m\n\u001b[1;32m----> 1\u001b[0m numpy\u001b[38;5;241m.\u001b[39msqrt(\u001b[38;5;241m4\u001b[39m)\n",
      "\u001b[1;31mNameError\u001b[0m: name 'numpy' is not defined"
     ]
    }
   ],
   "source": [
    "numpy.sqrt(4)"
   ]
  },
  {
   "cell_type": "code",
   "execution_count": 5,
   "id": "79accf15-89e1-4ffe-bdef-83522ca91ca5",
   "metadata": {},
   "outputs": [
    {
     "data": {
      "text/plain": [
       "2.0"
      ]
     },
     "execution_count": 5,
     "metadata": {},
     "output_type": "execute_result"
    }
   ],
   "source": [
    "np.sqrt(4)"
   ]
  },
  {
   "cell_type": "code",
   "execution_count": 7,
   "id": "1ea05b6a-b5fb-4724-ad20-536422d29ef1",
   "metadata": {},
   "outputs": [
    {
     "name": "stdout",
     "output_type": "stream",
     "text": [
      "파이선\n"
     ]
    }
   ],
   "source": [
    "print('파이선')"
   ]
  },
  {
   "cell_type": "code",
   "execution_count": 9,
   "id": "0fa01b44-f915-4f4f-9c12-1f52aa8e036e",
   "metadata": {},
   "outputs": [
    {
     "data": {
      "text/plain": [
       "20"
      ]
     },
     "execution_count": 9,
     "metadata": {},
     "output_type": "execute_result"
    }
   ],
   "source": [
    "max(19,20)"
   ]
  },
  {
   "cell_type": "code",
   "execution_count": 11,
   "id": "24623194-41b5-491f-bc92-6a920adbc418",
   "metadata": {},
   "outputs": [
    {
     "data": {
      "text/plain": [
       "'22'"
      ]
     },
     "execution_count": 11,
     "metadata": {},
     "output_type": "execute_result"
    }
   ],
   "source": [
    "str(22)"
   ]
  },
  {
   "cell_type": "code",
   "execution_count": 13,
   "id": "15a3183c-80e8-4c17-ae52-d6f54a4c8031",
   "metadata": {},
   "outputs": [
    {
     "data": {
      "text/plain": [
       "int"
      ]
     },
     "execution_count": 13,
     "metadata": {},
     "output_type": "execute_result"
    }
   ],
   "source": [
    "type(22)"
   ]
  },
  {
   "cell_type": "code",
   "execution_count": 15,
   "id": "f0c8213b-d68e-4b92-a8c2-a17bb5f3c347",
   "metadata": {},
   "outputs": [],
   "source": [
    "bools = False, True, True"
   ]
  },
  {
   "cell_type": "code",
   "execution_count": 17,
   "id": "f8e4ca6d-2e90-4ba3-9f0a-3056dacfab95",
   "metadata": {},
   "outputs": [
    {
     "data": {
      "text/plain": [
       "False"
      ]
     },
     "execution_count": 17,
     "metadata": {},
     "output_type": "execute_result"
    }
   ],
   "source": [
    "all(bools)"
   ]
  },
  {
   "cell_type": "code",
   "execution_count": 19,
   "id": "d47e555b-2294-4bbc-a194-5cf8959cd81f",
   "metadata": {},
   "outputs": [
    {
     "data": {
      "text/plain": [
       "True"
      ]
     },
     "execution_count": 19,
     "metadata": {},
     "output_type": "execute_result"
    }
   ],
   "source": [
    "any(bools)"
   ]
  },
  {
   "cell_type": "code",
   "execution_count": 21,
   "id": "affc726e-1345-4a91-b971-6e1e206bb1ca",
   "metadata": {},
   "outputs": [
    {
     "ename": "IndentationError",
     "evalue": "expected an indented block after function definition on line 1 (3115570394.py, line 2)",
     "output_type": "error",
     "traceback": [
      "\u001b[1;36m  Cell \u001b[1;32mIn[21], line 2\u001b[1;36m\u001b[0m\n\u001b[1;33m    return 2 * x + 1\u001b[0m\n\u001b[1;37m    ^\u001b[0m\n\u001b[1;31mIndentationError\u001b[0m\u001b[1;31m:\u001b[0m expected an indented block after function definition on line 1\n"
     ]
    }
   ],
   "source": [
    "def f(x):\n",
    "return 2 * x + 1"
   ]
  },
  {
   "cell_type": "code",
   "execution_count": 25,
   "id": "2d183c95-3e66-41ad-816b-67e7ff29ac2d",
   "metadata": {},
   "outputs": [],
   "source": [
    "def f(x):\n",
    "    return 2 * x + 1"
   ]
  },
  {
   "cell_type": "code",
   "execution_count": 27,
   "id": "05ffca1a-63b2-4818-b931-ea721cdc3ce7",
   "metadata": {},
   "outputs": [
    {
     "data": {
      "text/plain": [
       "3"
      ]
     },
     "execution_count": 27,
     "metadata": {},
     "output_type": "execute_result"
    }
   ],
   "source": [
    "f(1)"
   ]
  },
  {
   "cell_type": "code",
   "execution_count": 29,
   "id": "46583fd7-0b03-4ccb-a250-e8d66c32fc77",
   "metadata": {},
   "outputs": [],
   "source": [
    "def f(x, a=1, b=1):\n",
    "    return a + b * x"
   ]
  },
  {
   "cell_type": "code",
   "execution_count": 31,
   "id": "f6c9df7a-1e87-4d90-a951-fc5ec92a28fa",
   "metadata": {},
   "outputs": [
    {
     "data": {
      "text/plain": [
       "3"
      ]
     },
     "execution_count": 31,
     "metadata": {},
     "output_type": "execute_result"
    }
   ],
   "source": [
    "f(2)"
   ]
  },
  {
   "cell_type": "code",
   "execution_count": 33,
   "id": "43fa5787-cc0d-4a64-a857-5ccb354357e9",
   "metadata": {},
   "outputs": [
    {
     "data": {
      "text/plain": [
       "14"
      ]
     },
     "execution_count": 33,
     "metadata": {},
     "output_type": "execute_result"
    }
   ],
   "source": [
    "f(2, a=4, b=5)"
   ]
  },
  {
   "cell_type": "code",
   "execution_count": 35,
   "id": "930cf8ce-6e3d-40ba-ae73-6a588e28dc94",
   "metadata": {},
   "outputs": [],
   "source": [
    "def new_abs_function(x):\n",
    "    if x<0:\n",
    "        abs_value=-x\n",
    "    else:\n",
    "        abs_value=x\n",
    "    return abs_value"
   ]
  },
  {
   "cell_type": "code",
   "execution_count": 37,
   "id": "9b4446e5-287b-419c-82aa-65d119822c79",
   "metadata": {},
   "outputs": [
    {
     "name": "stdout",
     "output_type": "stream",
     "text": [
      "3\n"
     ]
    }
   ],
   "source": [
    "print(new_abs_function(3))"
   ]
  },
  {
   "cell_type": "code",
   "execution_count": 39,
   "id": "b720fb94-0393-4daf-ba17-63cd2809da30",
   "metadata": {},
   "outputs": [
    {
     "name": "stdout",
     "output_type": "stream",
     "text": [
      "3\n"
     ]
    }
   ],
   "source": [
    "print(new_abs_function(-3))"
   ]
  },
  {
   "cell_type": "code",
   "execution_count": 41,
   "id": "df36f24e-4e1a-4151-93ef-6f6842e9fe76",
   "metadata": {},
   "outputs": [
    {
     "name": "stdout",
     "output_type": "stream",
     "text": [
      "3\n",
      "3\n"
     ]
    }
   ],
   "source": [
    "print(new_abs_function(3))\n",
    "print(new_abs_function(-3))"
   ]
  },
  {
   "cell_type": "code",
   "execution_count": null,
   "id": "d54a726e-6387-4cd5-b867-f58fa4c0a936",
   "metadata": {},
   "outputs": [],
   "source": []
  }
 ],
 "metadata": {
  "kernelspec": {
   "display_name": "Python 3 (ipykernel)",
   "language": "python",
   "name": "python3"
  },
  "language_info": {
   "codemirror_mode": {
    "name": "ipython",
    "version": 3
   },
   "file_extension": ".py",
   "mimetype": "text/x-python",
   "name": "python",
   "nbconvert_exporter": "python",
   "pygments_lexer": "ipython3",
   "version": "3.12.4"
  }
 },
 "nbformat": 4,
 "nbformat_minor": 5
}
